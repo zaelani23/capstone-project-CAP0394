{
  "nbformat": 4,
  "nbformat_minor": 0,
  "metadata": {
    "colab": {
      "name": "TrainingModelBerasJatim.ipynb",
      "provenance": []
    },
    "kernelspec": {
      "name": "python3",
      "display_name": "Python 3"
    },
    "language_info": {
      "name": "python"
    },
    "accelerator": "GPU"
  },
  "cells": [
    {
      "cell_type": "markdown",
      "metadata": {
        "id": "fagnMnyrpRM6"
      },
      "source": [
        "# Import Library"
      ]
    },
    {
      "cell_type": "code",
      "metadata": {
        "colab": {
          "base_uri": "https://localhost:8080/"
        },
        "id": "jvBRZYXEpWGq",
        "outputId": "aa886122-6ad9-463b-a400-77c0e4362f67"
      },
      "source": [
        "import tensorflow as tf\n",
        "import numpy as np\n",
        "import matplotlib.pyplot as plt\n",
        "import pandas as pd\n",
        "from tqdm import tqdm\n",
        "print(tf.__version__)\n",
        "\n",
        "SEED = 1234\n",
        "NUM_FORECASTS = 15 #7 days"
      ],
      "execution_count": 18,
      "outputs": [
        {
          "output_type": "stream",
          "text": [
            "2.5.0\n"
          ],
          "name": "stdout"
        }
      ]
    },
    {
      "cell_type": "markdown",
      "metadata": {
        "id": "ag-iqMkSu1J5"
      },
      "source": [
        "# Load Data and Build Functions"
      ]
    },
    {
      "cell_type": "code",
      "metadata": {
        "id": "hnjZtCxwp4pP"
      },
      "source": [
        "#Load data and assign datetime\n",
        "dataset = pd.read_csv(\"beras_jatim.csv\", delimiter=\";\")\n",
        "dataset[\"Tanggal\"] = pd.to_datetime(dataset[\"Tanggal\"], format=\"%d/%m/%Y\")"
      ],
      "execution_count": 2,
      "outputs": []
    },
    {
      "cell_type": "code",
      "metadata": {
        "id": "eVVCN8MqrkJA"
      },
      "source": [
        "def windowed_dataset(series, window_size, batch_size, shuffle_buffer):\n",
        "    series = tf.expand_dims(series, axis=-1)\n",
        "    ds = tf.data.Dataset.from_tensor_slices(series)\n",
        "    ds = ds.window(window_size + 1, shift=1, drop_remainder=True)\n",
        "    ds = ds.flat_map(lambda w: w.batch(window_size + 1))\n",
        "    ds = ds.shuffle(shuffle_buffer)\n",
        "    ds = ds.map(lambda w: (w[:-1], w[1:]))\n",
        "    return ds.batch(batch_size).prefetch(1)"
      ],
      "execution_count": 3,
      "outputs": []
    },
    {
      "cell_type": "code",
      "metadata": {
        "id": "nmjJ0UaBsMJ8"
      },
      "source": [
        "def model_forecast(model, series, batch_size, window_size):\n",
        "    ds = tf.data.Dataset.from_tensor_slices(series)\n",
        "    ds = ds.window(window_size, shift=1, drop_remainder=True)\n",
        "    ds = ds.flat_map(lambda w: w.batch(window_size))\n",
        "    ds = ds.batch(batch_size).prefetch(1)\n",
        "    forecast = model.predict(ds)\n",
        "    return forecast"
      ],
      "execution_count": 4,
      "outputs": []
    },
    {
      "cell_type": "markdown",
      "metadata": {
        "id": "LezUJqbru4hQ"
      },
      "source": [
        "# Preparation for Modelling"
      ]
    },
    {
      "cell_type": "code",
      "metadata": {
        "id": "DnD3TX1HsOFb"
      },
      "source": [
        "window_size = 30\n",
        "batch_size = 8\n",
        "shuffle_buffer_size = 1000"
      ],
      "execution_count": 5,
      "outputs": []
    },
    {
      "cell_type": "markdown",
      "metadata": {
        "id": "KIWD8iyvvOsA"
      },
      "source": [
        "# Check Model Performance on One Region (Sumenep)"
      ]
    },
    {
      "cell_type": "code",
      "metadata": {
        "id": "uKM2CkjksQK_"
      },
      "source": [
        "series = dataset[\"Kab. Sumenep\"].values\n",
        "time = dataset.index.values + 1"
      ],
      "execution_count": 6,
      "outputs": []
    },
    {
      "cell_type": "code",
      "metadata": {
        "id": "mxhX-T76sa4_"
      },
      "source": [
        "split_time = int(0.9 * len(series))\n",
        "time_train = time[:split_time]\n",
        "x_train = series[:split_time]\n",
        "time_valid = time[split_time:]\n",
        "x_valid = series[split_time:]"
      ],
      "execution_count": 7,
      "outputs": []
    },
    {
      "cell_type": "code",
      "metadata": {
        "colab": {
          "base_uri": "https://localhost:8080/"
        },
        "id": "XOYZJTjWuB8g",
        "outputId": "c5ec7170-0ceb-4512-917f-12427c0d6941"
      },
      "source": [
        "tf.keras.backend.clear_session()\n",
        "tf.random.set_seed(SEED)\n",
        "np.random.seed(SEED)\n",
        "\n",
        "train_set = windowed_dataset(x_train, window_size, batch_size, shuffle_buffer_size)\n",
        "print(train_set)\n",
        "print(x_train.shape)\n",
        "\n",
        "model = tf.keras.models.Sequential([\n",
        "  tf.keras.layers.Dense(64, activation=\"relu\", input_shape = [None, 1]),\n",
        "  tf.keras.layers.Dense(32, activation=\"relu\"),\n",
        "  tf.keras.layers.Dense(16, activation=\"relu\"),\n",
        "  tf.keras.layers.Dense(1)\n",
        "])\n",
        "\n",
        "optimizer = tf.keras.optimizers.Adam(learning_rate=0.00005)\n",
        "model.compile(loss=tf.keras.losses.MeanAbsolutePercentageError(),\n",
        "              optimizer=optimizer,\n",
        "              metrics=[\"mse\", \"mae\"])\n",
        "history = model.fit(train_set, epochs=100, verbose=0)"
      ],
      "execution_count": 8,
      "outputs": [
        {
          "output_type": "stream",
          "text": [
            "<PrefetchDataset shapes: ((None, None, 1), (None, None, 1)), types: (tf.int64, tf.int64)>\n",
            "(216,)\n"
          ],
          "name": "stdout"
        }
      ]
    },
    {
      "cell_type": "markdown",
      "metadata": {
        "id": "i758SVZCu_uq"
      },
      "source": [
        "## Check Performance on Test"
      ]
    },
    {
      "cell_type": "code",
      "metadata": {
        "id": "5XxG0FdduHe1"
      },
      "source": [
        "rnn_forecast = model_forecast(model, series[:, np.newaxis], batch_size, window_size)\n",
        "rnn_forecast = rnn_forecast[split_time - window_size:-1, -1, 0]"
      ],
      "execution_count": 9,
      "outputs": []
    },
    {
      "cell_type": "code",
      "metadata": {
        "id": "MgCXfhF6uoEa"
      },
      "source": [
        "def plot_series(time, series, format=\"-\", start=0, end=None, label=None):\n",
        "    plt.plot(time[start:end], series[start:end], format, label=label)\n",
        "    plt.xlabel(\"Time\")\n",
        "    plt.ylabel(\"Value\")\n",
        "    plt.grid(True)"
      ],
      "execution_count": 10,
      "outputs": []
    },
    {
      "cell_type": "code",
      "metadata": {
        "colab": {
          "base_uri": "https://localhost:8080/",
          "height": 405
        },
        "id": "j2dBi7q3uqi1",
        "outputId": "ca278a7e-d546-4cfa-95a4-b12fa0754895"
      },
      "source": [
        "plt.figure(figsize=(10, 6))\n",
        "plot_series(time_valid, x_valid, label=\"True\")\n",
        "plot_series(time_valid, rnn_forecast, label=\"Forecasts\")\n",
        "plt.legend()"
      ],
      "execution_count": 11,
      "outputs": [
        {
          "output_type": "execute_result",
          "data": {
            "text/plain": [
              "<matplotlib.legend.Legend at 0x7ff1e007aa10>"
            ]
          },
          "metadata": {
            "tags": []
          },
          "execution_count": 11
        },
        {
          "output_type": "display_data",
          "data": {
            "image/png": "[encoded data removed]",
            "text/plain": [
              "<Figure size 720x432 with 1 Axes>"
            ]
          },
          "metadata": {
            "tags": [],
            "needs_background": "light"
          }
        }
      ]
    },
    {
      "cell_type": "markdown",
      "metadata": {
        "id": "LiF3Z1xYvaDc"
      },
      "source": [
        "## Check Performance on Both Training and Testing"
      ]
    },
    {
      "cell_type": "code",
      "metadata": {
        "id": "M7SMAcqQusu-"
      },
      "source": [
        "rnn_forecast = model_forecast(model, series[:, np.newaxis], batch_size, window_size)\n",
        "rnn_forecast = rnn_forecast[:split_time - window_size, -1, 0]"
      ],
      "execution_count": 12,
      "outputs": []
    },
    {
      "cell_type": "code",
      "metadata": {
        "colab": {
          "base_uri": "https://localhost:8080/",
          "height": 405
        },
        "id": "gYgzMSq_vdax",
        "outputId": "fd7a483e-0a7a-4d20-e8b9-84960f7df0c9"
      },
      "source": [
        "plt.figure(figsize=(10, 6))\n",
        "plot_series(time_train[window_size:], x_train[window_size:], label=\"True_Train\")\n",
        "plot_series(time_train[window_size:], rnn_forecast[:], label=\"Forecast_Train\")\n",
        "\n",
        "rnn_forecast_2 = model_forecast(model, series[:, np.newaxis], batch_size, window_size)\n",
        "rnn_forecast_2 = rnn_forecast_2[split_time - window_size:-1, -1, 0]\n",
        "\n",
        "plot_series(time_valid, x_valid, label=\"True_Test\")\n",
        "plot_series(time_valid, rnn_forecast_2, label=\"Forecast_Test\")\n",
        "\n",
        "plt.legend()"
      ],
      "execution_count": 13,
      "outputs": [
        {
          "output_type": "execute_result",
          "data": {
            "text/plain": [
              "<matplotlib.legend.Legend at 0x7ff1a8090a90>"
            ]
          },
          "metadata": {
            "tags": []
          },
          "execution_count": 13
        },
        {
          "output_type": "display_data",
          "data": {
            "image/png": "[encoded data removed]",
            "text/plain": [
              "<Figure size 720x432 with 1 Axes>"
            ]
          },
          "metadata": {
            "tags": [],
            "needs_background": "light"
          }
        }
      ]
    },
    {
      "cell_type": "code",
      "metadata": {
        "colab": {
          "base_uri": "https://localhost:8080/"
        },
        "id": "1w7Tfkh1ve-Y",
        "outputId": "b77e54ae-cf8f-48c1-9aac-b4a07b969cd6"
      },
      "source": [
        "#Mape Metrics\n",
        "print(\"MAPE on tests:\",tf.keras.metrics.mean_absolute_percentage_error(x_valid, rnn_forecast_2).numpy())\n",
        "print(\"MAPE on train:\",tf.keras.metrics.mean_absolute_percentage_error(x_train[window_size:], rnn_forecast).numpy())\n",
        "print(\"MSE on tests:\",tf.keras.metrics.mean_squared_error(x_valid, rnn_forecast_2).numpy())\n",
        "print(\"MSE on train:\",tf.keras.metrics.mean_squared_error(x_train[window_size:], rnn_forecast).numpy())"
      ],
      "execution_count": 14,
      "outputs": [
        {
          "output_type": "stream",
          "text": [
            "MAPE on tests: 0.18894033\n",
            "MAPE on train: 0.32077223\n",
            "MSE on tests: 1027.5653\n",
            "MSE on train: 3655.3313\n"
          ],
          "name": "stdout"
        }
      ]
    },
    {
      "cell_type": "markdown",
      "metadata": {
        "id": "EYE9lVf107H2"
      },
      "source": [
        "# Proceed to All Region and Forecast"
      ]
    },
    {
      "cell_type": "code",
      "metadata": {
        "id": "zC-KDMV1ChSL"
      },
      "source": [
        "output_data = pd.DataFrame(columns = [\"Tanggal\"])\n",
        "time = dataset[\"Tanggal\"].values[-1]\n",
        "for i in range(NUM_FORECASTS):\n",
        "  time += np.timedelta64(1,'D')\n",
        "  output_data = output_data.append({\"Tanggal\":time},\n",
        "                                   ignore_index=True)"
      ],
      "execution_count": 19,
      "outputs": []
    },
    {
      "cell_type": "code",
      "metadata": {
        "colab": {
          "base_uri": "https://localhost:8080/"
        },
        "id": "yW9QNCW0voS5",
        "outputId": "cc11ac24-9e81-4bbb-f396-59471028b143"
      },
      "source": [
        "columns = ['SEMUA PROVINSI', 'JAWA TIMUR', 'Kota Blitar', 'Kota Kediri',\n",
        "           'Kota Madiun', 'Kota Malang', 'Kota Probolinggo', 'Kota Surabaya',\n",
        "           'Kab. Banyuwangi', 'Kab. Jember', 'Kab. Sumenep']\n",
        "col = pd.Series(columns)\n",
        "for i in tqdm(col):\n",
        "  #Preparing Data\n",
        "  x_train = dataset[i].values\n",
        "  \n",
        "  #Build Model\n",
        "  tf.keras.backend.clear_session()\n",
        "  tf.random.set_seed(SEED)\n",
        "  np.random.seed(SEED)\n",
        "\n",
        "  train_set = windowed_dataset(x_train, window_size, batch_size, shuffle_buffer_size)\n",
        "\n",
        "  model = tf.keras.models.Sequential([\n",
        "      tf.keras.layers.Dense(64, activation=\"relu\", input_shape = [None, 1]),\n",
        "      tf.keras.layers.Dense(32, activation=\"relu\"),\n",
        "      tf.keras.layers.Dense(16, activation=\"relu\"),\n",
        "      tf.keras.layers.Dense(1)\n",
        "      ])\n",
        "  \n",
        "  optimizer = tf.keras.optimizers.Adam(learning_rate=0.00005)\n",
        "\n",
        "  model.compile(loss=tf.keras.losses.MeanAbsolutePercentageError(),\n",
        "                  optimizer=optimizer,\n",
        "                  metrics=[\"mse\", \"mae\"])\n",
        "  history = model.fit(train_set, epochs=100, verbose=0)\n",
        "\n",
        "  #Forecasting\n",
        "  pre = []\n",
        "  data_temp = x_train.copy()\n",
        "  for j in range(NUM_FORECASTS):\n",
        "    rnn_forecast = model_forecast(model, data_temp[-window_size:, np.newaxis], 8, window_size)\n",
        "    rnn_forecast = rnn_forecast[:, -1, 0]      \n",
        "    pre.append(round(rnn_forecast[0]))\n",
        "  output_data[i] = pre"
      ],
      "execution_count": 20,
      "outputs": [
        {
          "output_type": "stream",
          "text": [
            "100%|██████████| 11/11 [02:32<00:00, 13.82s/it]\n"
          ],
          "name": "stderr"
        }
      ]
    },
    {
      "cell_type": "code",
      "metadata": {
        "id": "axVVJFThDxJv"
      },
      "source": [
        "output_data.to_csv(\"predict_beras_jatim.csv\", index=False)"
      ],
      "execution_count": 26,
      "outputs": []
    }
  ]
}